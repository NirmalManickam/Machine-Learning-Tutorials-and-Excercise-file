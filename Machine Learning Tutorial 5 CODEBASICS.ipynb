{
 "cells": [
  {
   "cell_type": "markdown",
   "id": "922a0438",
   "metadata": {},
   "source": [
    "In this  tutorial we are learning how to save a trained model to a file and use it for future machine learning predictions.\n",
    "\n",
    "- we are going to write a pyhton code, hoe to save that into a file"
   ]
  },
  {
   "cell_type": "markdown",
   "id": "aab72a77",
   "metadata": {},
   "source": [
    "import pickle, module. this module allows us to serialize python object into a file\n",
    "\n",
    "we are going to use the fle from machine learning tutorial 1, where we predicted home prices"
   ]
  },
  {
   "cell_type": "code",
   "execution_count": 1,
   "id": "435a4042",
   "metadata": {},
   "outputs": [],
   "source": [
    "import pandas as pd\n",
    "import numpy as np\n",
    "import matplotlib.pyplot as plt\n",
    "from sklearn import linear_model"
   ]
  },
  {
   "cell_type": "code",
   "execution_count": 2,
   "id": "e52a2d4b",
   "metadata": {},
   "outputs": [
    {
     "data": {
      "text/html": [
       "<div>\n",
       "<style scoped>\n",
       "    .dataframe tbody tr th:only-of-type {\n",
       "        vertical-align: middle;\n",
       "    }\n",
       "\n",
       "    .dataframe tbody tr th {\n",
       "        vertical-align: top;\n",
       "    }\n",
       "\n",
       "    .dataframe thead th {\n",
       "        text-align: right;\n",
       "    }\n",
       "</style>\n",
       "<table border=\"1\" class=\"dataframe\">\n",
       "  <thead>\n",
       "    <tr style=\"text-align: right;\">\n",
       "      <th></th>\n",
       "      <th>area</th>\n",
       "      <th>price</th>\n",
       "    </tr>\n",
       "  </thead>\n",
       "  <tbody>\n",
       "    <tr>\n",
       "      <th>0</th>\n",
       "      <td>2600</td>\n",
       "      <td>550000</td>\n",
       "    </tr>\n",
       "    <tr>\n",
       "      <th>1</th>\n",
       "      <td>3000</td>\n",
       "      <td>565000</td>\n",
       "    </tr>\n",
       "    <tr>\n",
       "      <th>2</th>\n",
       "      <td>3200</td>\n",
       "      <td>610000</td>\n",
       "    </tr>\n",
       "    <tr>\n",
       "      <th>3</th>\n",
       "      <td>3600</td>\n",
       "      <td>680000</td>\n",
       "    </tr>\n",
       "    <tr>\n",
       "      <th>4</th>\n",
       "      <td>4000</td>\n",
       "      <td>725000</td>\n",
       "    </tr>\n",
       "  </tbody>\n",
       "</table>\n",
       "</div>"
      ],
      "text/plain": [
       "   area   price\n",
       "0  2600  550000\n",
       "1  3000  565000\n",
       "2  3200  610000\n",
       "3  3600  680000\n",
       "4  4000  725000"
      ]
     },
     "execution_count": 2,
     "metadata": {},
     "output_type": "execute_result"
    }
   ],
   "source": [
    "df = pd.read_csv(\"C:/Users/ezhil/Desktop/BITTU DOCUMENTS/Code basics/homeprices.csv\")\n",
    "df"
   ]
  },
  {
   "cell_type": "code",
   "execution_count": 3,
   "id": "e0cf07f6",
   "metadata": {},
   "outputs": [
    {
     "data": {
      "text/plain": [
       "<matplotlib.collections.PathCollection at 0x16c6f690a90>"
      ]
     },
     "execution_count": 3,
     "metadata": {},
     "output_type": "execute_result"
    },
    {
     "data": {
      "image/png": "[encoded data removed]",
      "text/plain": [
       "<Figure size 432x288 with 1 Axes>"
      ]
     },
     "metadata": {
      "needs_background": "light"
     },
     "output_type": "display_data"
    }
   ],
   "source": [
    "%matplotlib inline\n",
    "plt.xlabel('area(sq ft)')\n",
    "plt.ylabel('price(US$)')\n",
    "plt.scatter(df.area, df.price, color='red', marker='+')"
   ]
  },
  {
   "cell_type": "code",
   "execution_count": 4,
   "id": "386be4e0",
   "metadata": {},
   "outputs": [
    {
     "data": {
      "text/plain": [
       "LinearRegression()"
      ]
     },
     "execution_count": 4,
     "metadata": {},
     "output_type": "execute_result"
    }
   ],
   "source": [
    "reg = linear_model.LinearRegression()\n",
    "reg.fit(df[['area']], df.price)"
   ]
  },
  {
   "cell_type": "code",
   "execution_count": 22,
   "id": "6d09b48f",
   "metadata": {},
   "outputs": [
    {
     "data": {
      "text/plain": [
       "array([859554.79452055])"
      ]
     },
     "execution_count": 22,
     "metadata": {},
     "output_type": "execute_result"
    }
   ],
   "source": [
    "reg.predict([[5000]]) "
   ]
  },
  {
   "cell_type": "code",
   "execution_count": 6,
   "id": "4b600d98",
   "metadata": {},
   "outputs": [
    {
     "data": {
      "text/plain": [
       "array([135.78767123])"
      ]
     },
     "execution_count": 6,
     "metadata": {},
     "output_type": "execute_result"
    }
   ],
   "source": [
    "reg.coef_"
   ]
  },
  {
   "cell_type": "code",
   "execution_count": 7,
   "id": "e91a51bf",
   "metadata": {},
   "outputs": [
    {
     "data": {
      "text/plain": [
       "180616.43835616432"
      ]
     },
     "execution_count": 7,
     "metadata": {},
     "output_type": "execute_result"
    }
   ],
   "source": [
    "reg.intercept_"
   ]
  },
  {
   "cell_type": "markdown",
   "id": "40c40b56",
   "metadata": {},
   "source": [
    "## first model is using pickle"
   ]
  },
  {
   "cell_type": "code",
   "execution_count": 10,
   "id": "eeb6155f",
   "metadata": {
    "scrolled": true
   },
   "outputs": [],
   "source": [
    "import pickle\n",
    "# pickle module allows you to serialize python obejct into a file"
   ]
  },
  {
   "cell_type": "code",
   "execution_count": 13,
   "id": "ed921281",
   "metadata": {},
   "outputs": [],
   "source": [
    "# we are using binary data because, so we are using u=wb\n",
    "# pickle. dump means dumping my model into this file.\n",
    "# when we run this,it actually created a model in our working directory\n",
    "# which we open in notepad it would be giberish, because it's a binary file.\n",
    "# we need not worry about the content, but what we need to learn is our model is saved into a file now.\n",
    "# our model is saved in c:/users/ezhil"
   ]
  },
  {
   "cell_type": "code",
   "execution_count": 16,
   "id": "9a3ffd2b",
   "metadata": {},
   "outputs": [],
   "source": [
    "with open('model_pickle', 'wb') as f:\n",
    "    pickle.dump(reg,f)\n",
    "\n",
    "# we have changed reg instead of model, because we are used reg in previous prediction(the above one)"
   ]
  },
  {
   "cell_type": "code",
   "execution_count": 18,
   "id": "e4f2c2a8",
   "metadata": {},
   "outputs": [],
   "source": [
    "# we can use the same model here\n",
    "# we have to open the file pointer, it's the same file\n",
    "# 'rb' is read mode and it's a binary profile hence we supplied 'b' here.\n",
    "# model word is said as mp\n",
    "with open('model_pickle','rb') as f:\n",
    "    mp = pickle.load(f)"
   ]
  },
  {
   "cell_type": "code",
   "execution_count": 20,
   "id": "2493071d",
   "metadata": {},
   "outputs": [],
   "source": [
    "# now our model is loaded from a file into the memory\n",
    "# now mp is our object"
   ]
  },
  {
   "cell_type": "code",
   "execution_count": 21,
   "id": "c67d5739",
   "metadata": {},
   "outputs": [
    {
     "data": {
      "text/plain": [
       "array([859554.79452055])"
      ]
     },
     "execution_count": 21,
     "metadata": {},
     "output_type": "execute_result"
    }
   ],
   "source": [
    "mp.predict([[5000]])"
   ]
  },
  {
   "cell_type": "code",
   "execution_count": 24,
   "id": "b6bc5cf0",
   "metadata": {},
   "outputs": [],
   "source": [
    "# so this gives a actual prediction done in the previous or above file.\n",
    "# so we can supply this model file and can say this is our trained model file. go use it for ur actual problem"
   ]
  },
  {
   "cell_type": "markdown",
   "id": "12777b27",
   "metadata": {},
   "source": [
    "## second model is using sklearn joblib"
   ]
  },
  {
   "cell_type": "code",
   "execution_count": 27,
   "id": "a800be37",
   "metadata": {},
   "outputs": [],
   "source": [
    "# google sklearn model persistance\n",
    "# as per google documentation, when we have large numpy arrays the using sklearn joblib will be more efficient.\n",
    "# but pckle and joblib gives u the same functionality"
   ]
  },
  {
   "cell_type": "code",
   "execution_count": 32,
   "id": "58ffff62",
   "metadata": {},
   "outputs": [
    {
     "ename": "ImportError",
     "evalue": "cannot import name 'joblib' from 'sklearn.externals' (C:\\Users\\ezhil\\anaconda3\\lib\\site-packages\\sklearn\\externals\\__init__.py)",
     "output_type": "error",
     "traceback": [
      "\u001b[1;31m---------------------------------------------------------------------------\u001b[0m",
      "\u001b[1;31mImportError\u001b[0m                               Traceback (most recent call last)",
      "\u001b[1;32m~\\AppData\\Local\\Temp/ipykernel_12648/302850934.py\u001b[0m in \u001b[0;36m<module>\u001b[1;34m\u001b[0m\n\u001b[0;32m      1\u001b[0m \u001b[1;31m# let's import joblib\u001b[0m\u001b[1;33m\u001b[0m\u001b[1;33m\u001b[0m\u001b[0m\n\u001b[1;32m----> 2\u001b[1;33m \u001b[1;32mfrom\u001b[0m \u001b[0msklearn\u001b[0m\u001b[1;33m.\u001b[0m\u001b[0mexternals\u001b[0m \u001b[1;32mimport\u001b[0m \u001b[0mjoblib\u001b[0m\u001b[1;33m\u001b[0m\u001b[1;33m\u001b[0m\u001b[0m\n\u001b[0m",
      "\u001b[1;31mImportError\u001b[0m: cannot import name 'joblib' from 'sklearn.externals' (C:\\Users\\ezhil\\anaconda3\\lib\\site-packages\\sklearn\\externals\\__init__.py)"
     ]
    }
   ],
   "source": [
    "# let's import joblib\n",
    "from sklearn.externals import joblib"
   ]
  },
  {
   "cell_type": "code",
   "execution_count": 36,
   "id": "d45ffa24",
   "metadata": {},
   "outputs": [
    {
     "data": {
      "text/plain": [
       "['model_joblib']"
      ]
     },
     "execution_count": 36,
     "metadata": {},
     "output_type": "execute_result"
    }
   ],
   "source": [
    "# googled and found that just import joblib\n",
    "import joblib\n",
    "joblib.dump(reg, 'model_joblib') #reg is the model, which is saved as model_joblib"
   ]
  },
  {
   "cell_type": "code",
   "execution_count": 38,
   "id": "180eb367",
   "metadata": {},
   "outputs": [],
   "source": [
    "# we found that this is saved to our actual working directory\n",
    "# location : c:/ezhil/users\n",
    "# model saved successfully now we can load that model and can use."
   ]
  },
  {
   "cell_type": "code",
   "execution_count": 39,
   "id": "7e19a402",
   "metadata": {},
   "outputs": [],
   "source": [
    "mj = joblib.load('model_joblib')\n",
    "# saving our model as object mj"
   ]
  },
  {
   "cell_type": "code",
   "execution_count": 40,
   "id": "ebeab655",
   "metadata": {},
   "outputs": [
    {
     "data": {
      "text/plain": [
       "array([859554.79452055])"
      ]
     },
     "execution_count": 40,
     "metadata": {},
     "output_type": "execute_result"
    }
   ],
   "source": [
    "mj.predict([[5000]])"
   ]
  },
  {
   "cell_type": "code",
   "execution_count": 41,
   "id": "1c68990a",
   "metadata": {},
   "outputs": [],
   "source": [
    "# steps used, import, dump, save the model in the dump functions, \n"
   ]
  },
  {
   "cell_type": "code",
   "execution_count": null,
   "id": "9520adb2",
   "metadata": {},
   "outputs": [],
   "source": []
  }
 ],
 "metadata": {
  "kernelspec": {
   "display_name": "Python 3 (ipykernel)",
   "language": "python",
   "name": "python3"
  },
  "language_info": {
   "codemirror_mode": {
    "name": "ipython",
    "version": 3
   },
   "file_extension": ".py",
   "mimetype": "text/x-python",
   "name": "python",
   "nbconvert_exporter": "python",
   "pygments_lexer": "ipython3",
   "version": "3.9.7"
  }
 },
 "nbformat": 4,
 "nbformat_minor": 5
}
