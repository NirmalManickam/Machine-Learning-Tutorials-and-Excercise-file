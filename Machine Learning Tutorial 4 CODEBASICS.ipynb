{
 "cells": [
  {
   "cell_type": "markdown",
   "id": "17e62b79",
   "metadata": {},
   "source": [
    "In this tutorial\n",
    "\n",
    "Mean squared error, cost function, gradient descent and learning rate. These are all some important topics in machine learning, we are going to look into this"
   ]
  },
  {
   "cell_type": "markdown",
   "id": "aa142317",
   "metadata": {},
   "source": [
    "we won't be implementing gradient descent in actualmachine learning problems, but we are learning in this tutorial is to learns some of the internal"
   ]
  },
  {
   "cell_type": "markdown",
   "id": "a7863827",
   "metadata": {},
   "source": [
    "Mean squared error is also called as cost function, there are different kind of cost function but mean squared error is the most popular one"
   ]
  },
  {
   "cell_type": "markdown",
   "id": "869f9ac1",
   "metadata": {},
   "source": [
    "Gradient Descent is the algorithm that finds best fit line for given training data set"
   ]
  },
  {
   "cell_type": "markdown",
   "id": "3577de65",
   "metadata": {},
   "source": [
    "In this tutorial cocepts are taaught and dirct excercise file is give"
   ]
  },
  {
   "cell_type": "code",
   "execution_count": 2,
   "id": "9e0862e2",
   "metadata": {},
   "outputs": [],
   "source": [
    "import pandas as pd\n",
    "import numpy as np\n",
    "import matplotlib.pyplot as plt\n",
    "from sklearn import linear_model"
   ]
  },
  {
   "cell_type": "markdown",
   "id": "00967808",
   "metadata": {},
   "source": [
    "## Excercise file"
   ]
  },
  {
   "cell_type": "markdown",
   "id": "f473bd12",
   "metadata": {},
   "source": [
    "- Consider math as x and cs as y\n"
   ]
  },
  {
   "cell_type": "code",
   "execution_count": 3,
   "id": "55ec9a92",
   "metadata": {},
   "outputs": [
    {
     "data": {
      "text/html": [
       "<div>\n",
       "<style scoped>\n",
       "    .dataframe tbody tr th:only-of-type {\n",
       "        vertical-align: middle;\n",
       "    }\n",
       "\n",
       "    .dataframe tbody tr th {\n",
       "        vertical-align: top;\n",
       "    }\n",
       "\n",
       "    .dataframe thead th {\n",
       "        text-align: right;\n",
       "    }\n",
       "</style>\n",
       "<table border=\"1\" class=\"dataframe\">\n",
       "  <thead>\n",
       "    <tr style=\"text-align: right;\">\n",
       "      <th></th>\n",
       "      <th>name</th>\n",
       "      <th>math</th>\n",
       "      <th>cs</th>\n",
       "    </tr>\n",
       "  </thead>\n",
       "  <tbody>\n",
       "    <tr>\n",
       "      <th>0</th>\n",
       "      <td>david</td>\n",
       "      <td>92</td>\n",
       "      <td>98</td>\n",
       "    </tr>\n",
       "    <tr>\n",
       "      <th>1</th>\n",
       "      <td>laura</td>\n",
       "      <td>56</td>\n",
       "      <td>68</td>\n",
       "    </tr>\n",
       "    <tr>\n",
       "      <th>2</th>\n",
       "      <td>sanjay</td>\n",
       "      <td>88</td>\n",
       "      <td>81</td>\n",
       "    </tr>\n",
       "    <tr>\n",
       "      <th>3</th>\n",
       "      <td>wei</td>\n",
       "      <td>70</td>\n",
       "      <td>80</td>\n",
       "    </tr>\n",
       "    <tr>\n",
       "      <th>4</th>\n",
       "      <td>jeff</td>\n",
       "      <td>80</td>\n",
       "      <td>83</td>\n",
       "    </tr>\n",
       "    <tr>\n",
       "      <th>5</th>\n",
       "      <td>aamir</td>\n",
       "      <td>49</td>\n",
       "      <td>52</td>\n",
       "    </tr>\n",
       "    <tr>\n",
       "      <th>6</th>\n",
       "      <td>venkat</td>\n",
       "      <td>65</td>\n",
       "      <td>66</td>\n",
       "    </tr>\n",
       "    <tr>\n",
       "      <th>7</th>\n",
       "      <td>virat</td>\n",
       "      <td>35</td>\n",
       "      <td>30</td>\n",
       "    </tr>\n",
       "    <tr>\n",
       "      <th>8</th>\n",
       "      <td>arthur</td>\n",
       "      <td>66</td>\n",
       "      <td>68</td>\n",
       "    </tr>\n",
       "    <tr>\n",
       "      <th>9</th>\n",
       "      <td>paul</td>\n",
       "      <td>67</td>\n",
       "      <td>73</td>\n",
       "    </tr>\n",
       "  </tbody>\n",
       "</table>\n",
       "</div>"
      ],
      "text/plain": [
       "     name  math  cs\n",
       "0   david    92  98\n",
       "1   laura    56  68\n",
       "2  sanjay    88  81\n",
       "3     wei    70  80\n",
       "4    jeff    80  83\n",
       "5   aamir    49  52\n",
       "6  venkat    65  66\n",
       "7   virat    35  30\n",
       "8  arthur    66  68\n",
       "9    paul    67  73"
      ]
     },
     "execution_count": 3,
     "metadata": {},
     "output_type": "execute_result"
    }
   ],
   "source": [
    "df = pd.read_csv(\"C:/Users/ezhil/Desktop/BITTU DOCUMENTS/Code basics/Machine learning from tutorial 3/ml 3/test_scores.csv\")\n",
    "df"
   ]
  },
  {
   "cell_type": "code",
   "execution_count": 4,
   "id": "77efbb5a",
   "metadata": {},
   "outputs": [],
   "source": [
    "# now let's right the code for this\n",
    "#we are using function(def) and for loop to do many calculations"
   ]
  },
  {
   "cell_type": "code",
   "execution_count": 5,
   "id": "c64a38aa",
   "metadata": {},
   "outputs": [],
   "source": [
    "x = np.array([df.math])\n",
    "y = np.array([df.cs])\n",
    "# we are using array to calculate matrix multiplications wihout error and fast"
   ]
  },
  {
   "cell_type": "code",
   "execution_count": 19,
   "id": "a314f5bc",
   "metadata": {},
   "outputs": [],
   "source": [
    "# consider the below points as step by step\n",
    "# start with m&b current value as 0\n",
    "# iterations is 1000, nothing but no.of.trails then pass this into iterations\n",
    "# now y=mx+b, which is nothing but the predicted value\n",
    "# now m derivative(md), b derivative(bd), formula written by looking images\n",
    "# defining the value of n in functions, where n=x\n",
    "# post derivative we are using learning steps, because derivative gives slope, but learning rate give direction\n",
    "# now specify larning rate in function\n",
    "# say 0.001#\n",
    "# now printing values\n",
    "# after checking functions we are going to call gradient_descent\n",
    "# after check the code executed bar , which is 3rd below from this box\n",
    "# cost sum bracs definiton, where we are passing 'for loop' for the value in bracs and giving square for those values"
   ]
  },
  {
   "cell_type": "code",
   "execution_count": 22,
   "id": "db26c9d0",
   "metadata": {},
   "outputs": [],
   "source": [
    "def gradient_descent(x,y):\n",
    "    m_curr = b_curr = 0\n",
    "    iterations = 10\n",
    "    n=len(x)\n",
    "    learning_rate = 0.08\n",
    "    \n",
    "    for i in range(iterations):\n",
    "        y_predicted = m_curr * x + b_curr\n",
    "        cost = (1/n)*sum([val**2 for val in(y-y_predicted)])\n",
    "        md = -(2/n)*sum(x*(y-y_predicted))\n",
    "        bd = -(2/n)*sum(y-y_predicted)\n",
    "        m_curr = m_curr - learning_rate * md\n",
    "        b_curr = b_curr - learning_rate * bd\n",
    "        \n",
    "        print(\"m{}, b{}, iteraion{}\".format(m_curr, b_curr, i))\n",
    "           "
   ]
  },
  {
   "cell_type": "code",
   "execution_count": 21,
   "id": "adbeecfa",
   "metadata": {},
   "outputs": [],
   "source": [
    "# errors done \n",
    "# format. instead of .format\n",
    "#(,) no needed near .format\n",
    "# In, cost function val**2 is done outside bracs"
   ]
  },
  {
   "cell_type": "code",
   "execution_count": 18,
   "id": "fd1ccb69",
   "metadata": {},
   "outputs": [],
   "source": [
    "# these are written after the code executed\n",
    "# remembering the 3d diagram at each steps we need to reduce the cost(MSE)\n",
    "# so we need to mention the cost, again we are writing costcode in for lope second line"
   ]
  },
  {
   "cell_type": "code",
   "execution_count": 15,
   "id": "735c6d71",
   "metadata": {},
   "outputs": [
    {
     "name": "stdout",
     "output_type": "stream",
     "text": [
      "m[1442.56  609.28 1140.48  896.   1062.4   407.68  686.4   168.    718.08\n",
      "  782.56], b[15.68 10.88 12.96 12.8  13.28  8.32 10.56  4.8  10.88 11.68], iteraion0\n",
      "m[-1950918.144   -304591.2576 -1411001.856   -700815.36   -1085942.784\n",
      "  -155864.2176  -462743.424    -32618.88    -499151.7696  -560625.984 ], b[-21205.632   -5439.1296 -16034.112  -10011.648  -13574.2848  -3180.9024\n",
      "  -7119.1296   -931.968   -7562.9056  -8367.552 ], iteraion1\n",
      "m[2.64037406e+09 1.52576462e+08 1.74710364e+09 5.48851453e+08\n",
      " 1.11109428e+09 5.97462796e+07 3.12426537e+08 6.36606862e+06\n",
      " 3.47470248e+08 4.02193863e+08], b[28699718.0288      2724579.679232   19853450.43840001  7840735.04768\n",
      " 13888678.515968    1219311.827968    4806562.100736     181887.67488\n",
      "  5264700.726272    6002893.4848    ], iteraion2\n",
      "m[-3.57348225e+12 -7.64286008e+10 -2.16326372e+12 -4.29838503e+11\n",
      " -1.13682722e+12 -2.29019435e+10 -2.10937900e+11 -1.24240178e+09\n",
      " -2.41880988e+11 -2.88533877e+11], b[-3.88421984e+10 -1.36479644e+09 -2.45825423e+10 -6.14055005e+09\n",
      " -1.42103403e+10 -4.67386602e+08 -3.24519846e+09 -3.54971938e+07\n",
      " -3.66486346e+09 -4.30647577e+09], iteraion3\n",
      "m[4.83635088e+15 3.82846147e+13 2.67855314e+15 3.36632322e+14\n",
      " 1.16315614e+15 8.77877297e+12 1.42416832e+14 2.42467132e+11\n",
      " 1.68378194e+14 2.06994203e+14], b[5.25690313e+13 6.83653834e+11 3.04381039e+13 4.80903317e+12\n",
      " 1.45394518e+13 1.79158632e+11 2.19102819e+12 6.92763235e+09\n",
      " 2.55118475e+12 3.08946572e+12], iteraion4\n",
      "m[-6.54551728e+18 -1.91775292e+16 -3.31658450e+18 -2.63636969e+17\n",
      " -1.19009484e+18 -3.36507926e+15 -9.61541486e+16 -4.73198855e+13\n",
      " -1.17211428e+17 -1.48497641e+17], b[-7.11469269e+16 -3.42455878e+14 -3.76884602e+16 -3.76624242e+15\n",
      " -1.48761855e+16 -6.86750869e+13 -1.47929459e+15 -1.35199673e+12\n",
      " -1.77593073e+15 -2.21638271e+15], iteraion5\n",
      "m[8.85870308e+21 9.60640792e+18 4.10659493e+21 2.06469929e+20\n",
      " 1.21765743e+21 1.28990218e+18 6.49194349e+19 9.23494886e+15\n",
      " 8.15932193e+19 1.06532208e+20], b[9.62902509e+19 1.71542999e+17 4.66658515e+19 2.94957041e+18\n",
      " 1.52207179e+19 2.63245343e+16 9.98760537e+17 2.63855682e+14\n",
      " 1.23626090e+18 1.59003295e+18], iteraion6\n",
      "m[-1.19893688e+25 -4.81204186e+21 -5.08478584e+24 -1.61698990e+23\n",
      " -1.24585838e+24 -4.94445304e+20 -4.38310057e+22 -1.80229262e+18\n",
      " -5.67986718e+22 -7.64262060e+22], b[-1.30319226e+23 -8.59293189e+19 -5.77816573e+22 -2.30998557e+21\n",
      " -1.55732298e+22 -1.00907205e+19 -6.74323164e+20 -5.14940749e+16\n",
      " -8.60585937e+20 -1.14068964e+21], iteraion7\n",
      "m[1.62264117e+28 2.41044801e+24 6.29598183e+27 1.26636181e+26\n",
      " 1.27471246e+27 1.89530774e+23 2.95929418e+25 3.51735428e+20\n",
      " 3.95386914e+25 5.48281602e+25], b[1.76374040e+26 4.30437144e+22 7.15452481e+25 1.80908830e+24\n",
      " 1.59339058e+25 3.86797498e+21 4.55276028e+23 1.00495837e+19\n",
      " 5.99071082e+23 8.18330749e+23], iteraion8\n",
      "m[-2.19608256e+31 -1.20744162e+27 -7.79568470e+30 -9.91763913e+28\n",
      " -1.30423480e+30 -7.26509362e+25 -1.99799706e+28 -6.86446861e+22\n",
      " -2.75236739e+28 -3.93337221e+28], b[-2.38704626e+29 -2.15614574e+25 -8.85873262e+28 -1.41680559e+27\n",
      " -1.63029350e+28 -1.48267217e+24 -3.07384163e+26 -1.96127675e+21\n",
      " -4.17025362e+26 -5.87070479e+26], iteraion9\n"
     ]
    }
   ],
   "source": [
    "gradient_descent(x,y)"
   ]
  },
  {
   "cell_type": "code",
   "execution_count": 23,
   "id": "2edf8483",
   "metadata": {},
   "outputs": [
    {
     "name": "stdout",
     "output_type": "stream",
     "text": [
      "m[1442.56  609.28 1140.48  896.   1062.4   407.68  686.4   168.    718.08\n",
      "  782.56], b[15.68 10.88 12.96 12.8  13.28  8.32 10.56  4.8  10.88 11.68], iteraion0\n",
      "m[-1950918.144   -304591.2576 -1411001.856   -700815.36   -1085942.784\n",
      "  -155864.2176  -462743.424    -32618.88    -499151.7696  -560625.984 ], b[-21205.632   -5439.1296 -16034.112  -10011.648  -13574.2848  -3180.9024\n",
      "  -7119.1296   -931.968   -7562.9056  -8367.552 ], iteraion1\n",
      "m[2.64037406e+09 1.52576462e+08 1.74710364e+09 5.48851453e+08\n",
      " 1.11109428e+09 5.97462796e+07 3.12426537e+08 6.36606862e+06\n",
      " 3.47470248e+08 4.02193863e+08], b[28699718.0288      2724579.679232   19853450.43840001  7840735.04768\n",
      " 13888678.515968    1219311.827968    4806562.100736     181887.67488\n",
      "  5264700.726272    6002893.4848    ], iteraion2\n",
      "m[-3.57348225e+12 -7.64286008e+10 -2.16326372e+12 -4.29838503e+11\n",
      " -1.13682722e+12 -2.29019435e+10 -2.10937900e+11 -1.24240178e+09\n",
      " -2.41880988e+11 -2.88533877e+11], b[-3.88421984e+10 -1.36479644e+09 -2.45825423e+10 -6.14055005e+09\n",
      " -1.42103403e+10 -4.67386602e+08 -3.24519846e+09 -3.54971938e+07\n",
      " -3.66486346e+09 -4.30647577e+09], iteraion3\n",
      "m[4.83635088e+15 3.82846147e+13 2.67855314e+15 3.36632322e+14\n",
      " 1.16315614e+15 8.77877297e+12 1.42416832e+14 2.42467132e+11\n",
      " 1.68378194e+14 2.06994203e+14], b[5.25690313e+13 6.83653834e+11 3.04381039e+13 4.80903317e+12\n",
      " 1.45394518e+13 1.79158632e+11 2.19102819e+12 6.92763235e+09\n",
      " 2.55118475e+12 3.08946572e+12], iteraion4\n",
      "m[-6.54551728e+18 -1.91775292e+16 -3.31658450e+18 -2.63636969e+17\n",
      " -1.19009484e+18 -3.36507926e+15 -9.61541486e+16 -4.73198855e+13\n",
      " -1.17211428e+17 -1.48497641e+17], b[-7.11469269e+16 -3.42455878e+14 -3.76884602e+16 -3.76624242e+15\n",
      " -1.48761855e+16 -6.86750869e+13 -1.47929459e+15 -1.35199673e+12\n",
      " -1.77593073e+15 -2.21638271e+15], iteraion5\n",
      "m[8.85870308e+21 9.60640792e+18 4.10659493e+21 2.06469929e+20\n",
      " 1.21765743e+21 1.28990218e+18 6.49194349e+19 9.23494886e+15\n",
      " 8.15932193e+19 1.06532208e+20], b[9.62902509e+19 1.71542999e+17 4.66658515e+19 2.94957041e+18\n",
      " 1.52207179e+19 2.63245343e+16 9.98760537e+17 2.63855682e+14\n",
      " 1.23626090e+18 1.59003295e+18], iteraion6\n",
      "m[-1.19893688e+25 -4.81204186e+21 -5.08478584e+24 -1.61698990e+23\n",
      " -1.24585838e+24 -4.94445304e+20 -4.38310057e+22 -1.80229262e+18\n",
      " -5.67986718e+22 -7.64262060e+22], b[-1.30319226e+23 -8.59293189e+19 -5.77816573e+22 -2.30998557e+21\n",
      " -1.55732298e+22 -1.00907205e+19 -6.74323164e+20 -5.14940749e+16\n",
      " -8.60585937e+20 -1.14068964e+21], iteraion7\n",
      "m[1.62264117e+28 2.41044801e+24 6.29598183e+27 1.26636181e+26\n",
      " 1.27471246e+27 1.89530774e+23 2.95929418e+25 3.51735428e+20\n",
      " 3.95386914e+25 5.48281602e+25], b[1.76374040e+26 4.30437144e+22 7.15452481e+25 1.80908830e+24\n",
      " 1.59339058e+25 3.86797498e+21 4.55276028e+23 1.00495837e+19\n",
      " 5.99071082e+23 8.18330749e+23], iteraion8\n",
      "m[-2.19608256e+31 -1.20744162e+27 -7.79568470e+30 -9.91763913e+28\n",
      " -1.30423480e+30 -7.26509362e+25 -1.99799706e+28 -6.86446861e+22\n",
      " -2.75236739e+28 -3.93337221e+28], b[-2.38704626e+29 -2.15614574e+25 -8.85873262e+28 -1.41680559e+27\n",
      " -1.63029350e+28 -1.48267217e+24 -3.07384163e+26 -1.96127675e+21\n",
      " -4.17025362e+26 -5.87070479e+26], iteraion9\n"
     ]
    }
   ],
   "source": [
    "gradient_descent(x,y)"
   ]
  },
  {
   "cell_type": "markdown",
   "id": "7301a289",
   "metadata": {},
   "source": [
    "## Let's chk the actual code by codebasics\n",
    "\n",
    "- seems some codes are extra let's learn about that, code copied from github link"
   ]
  },
  {
   "cell_type": "code",
   "execution_count": 33,
   "id": "1bc90b8d",
   "metadata": {},
   "outputs": [],
   "source": [
    "import pandas as pd\n",
    "import numpy as np\n",
    "import matplotlib.pyplot as plt\n",
    "from sklearn import linear_model\n",
    "import math"
   ]
  },
  {
   "cell_type": "code",
   "execution_count": 34,
   "id": "46a8cffa",
   "metadata": {},
   "outputs": [
    {
     "data": {
      "text/html": [
       "<div>\n",
       "<style scoped>\n",
       "    .dataframe tbody tr th:only-of-type {\n",
       "        vertical-align: middle;\n",
       "    }\n",
       "\n",
       "    .dataframe tbody tr th {\n",
       "        vertical-align: top;\n",
       "    }\n",
       "\n",
       "    .dataframe thead th {\n",
       "        text-align: right;\n",
       "    }\n",
       "</style>\n",
       "<table border=\"1\" class=\"dataframe\">\n",
       "  <thead>\n",
       "    <tr style=\"text-align: right;\">\n",
       "      <th></th>\n",
       "      <th>name</th>\n",
       "      <th>math</th>\n",
       "      <th>cs</th>\n",
       "    </tr>\n",
       "  </thead>\n",
       "  <tbody>\n",
       "    <tr>\n",
       "      <th>0</th>\n",
       "      <td>david</td>\n",
       "      <td>92</td>\n",
       "      <td>98</td>\n",
       "    </tr>\n",
       "    <tr>\n",
       "      <th>1</th>\n",
       "      <td>laura</td>\n",
       "      <td>56</td>\n",
       "      <td>68</td>\n",
       "    </tr>\n",
       "    <tr>\n",
       "      <th>2</th>\n",
       "      <td>sanjay</td>\n",
       "      <td>88</td>\n",
       "      <td>81</td>\n",
       "    </tr>\n",
       "    <tr>\n",
       "      <th>3</th>\n",
       "      <td>wei</td>\n",
       "      <td>70</td>\n",
       "      <td>80</td>\n",
       "    </tr>\n",
       "    <tr>\n",
       "      <th>4</th>\n",
       "      <td>jeff</td>\n",
       "      <td>80</td>\n",
       "      <td>83</td>\n",
       "    </tr>\n",
       "    <tr>\n",
       "      <th>5</th>\n",
       "      <td>aamir</td>\n",
       "      <td>49</td>\n",
       "      <td>52</td>\n",
       "    </tr>\n",
       "    <tr>\n",
       "      <th>6</th>\n",
       "      <td>venkat</td>\n",
       "      <td>65</td>\n",
       "      <td>66</td>\n",
       "    </tr>\n",
       "    <tr>\n",
       "      <th>7</th>\n",
       "      <td>virat</td>\n",
       "      <td>35</td>\n",
       "      <td>30</td>\n",
       "    </tr>\n",
       "    <tr>\n",
       "      <th>8</th>\n",
       "      <td>arthur</td>\n",
       "      <td>66</td>\n",
       "      <td>68</td>\n",
       "    </tr>\n",
       "    <tr>\n",
       "      <th>9</th>\n",
       "      <td>paul</td>\n",
       "      <td>67</td>\n",
       "      <td>73</td>\n",
       "    </tr>\n",
       "  </tbody>\n",
       "</table>\n",
       "</div>"
      ],
      "text/plain": [
       "     name  math  cs\n",
       "0   david    92  98\n",
       "1   laura    56  68\n",
       "2  sanjay    88  81\n",
       "3     wei    70  80\n",
       "4    jeff    80  83\n",
       "5   aamir    49  52\n",
       "6  venkat    65  66\n",
       "7   virat    35  30\n",
       "8  arthur    66  68\n",
       "9    paul    67  73"
      ]
     },
     "execution_count": 34,
     "metadata": {},
     "output_type": "execute_result"
    }
   ],
   "source": [
    "df = pd.read_csv(\"C:/Users/ezhil/Desktop/BITTU DOCUMENTS/Code basics/Machine learning from tutorial 3/ml 3/test_scores.csv\")\n",
    "df"
   ]
  },
  {
   "cell_type": "markdown",
   "id": "bdd06c2e",
   "metadata": {},
   "source": [
    "def predict_using_sklean():\n",
    "    df = pd.read_csv(\"C:/Users/ezhil/Desktop/BITTU DOCUMENTS/Code basics/Machine learning from tutorial 3/ml 3/test_scores.csv\")\n",
    "    r = LinearRegression()\n",
    "    r.fit(df[['math']],df.cs)\n",
    "    return r.coef_, r.intercept_\n",
    "\n",
    "def gradient_descent(x,y):\n",
    "    m_curr = 0\n",
    "    b_curr = 0\n",
    "    iterations = 1000000\n",
    "    n = len(x)\n",
    "    learning_rate = 0.0002\n",
    "\n",
    "    cost_previous = 0\n",
    "\n",
    "    for i in range(iterations):\n",
    "        y_predicted = m_curr * x + b_curr\n",
    "        cost = (1/n)*sum([value**2 for value in (y-y_predicted)])\n",
    "        md = -(2/n)*sum(x*(y-y_predicted))\n",
    "        bd = -(2/n)*sum(y-y_predicted)\n",
    "        m_curr = m_curr - learning_rate * md\n",
    "        b_curr = b_curr - learning_rate * bd\n",
    "        if df.math.isclose(cost, cost_previous, rel_tol=1e-20):\n",
    "            break\n",
    "        cost_previous = cost\n",
    "        print (\"m {}, b {}, cost {}, iteration {}\".format(m_curr,b_curr,cost, i))\n",
    "\n",
    "    return m_curr, b_curr\n",
    "\n",
    "if __name__ == \"__main__\":\n",
    "    df = pd.read_csv(\"C:/Users/ezhil/Desktop/BITTU DOCUMENTS/Code basics/Machine learning from tutorial 3/ml 3/test_scores.csv\")\n",
    "    x = np.array(df.math)\n",
    "    y = np.array(df.cs)\n",
    "\n",
    "    m, b = gradient_descent(x,y)\n",
    "    print(\"Using gradient descent function: Coef {} Intercept {}\".format(m, b))\n",
    "\n",
    "    m_sklearn, b_sklearn = predict_using_sklean()\n",
    "    print(\"Using sklearn: Coef {} Intercept {}\".format(m_sklearn,b_sklearn))"
   ]
  },
  {
   "cell_type": "markdown",
   "id": "5452245e",
   "metadata": {},
   "source": [
    "def predict_using_sklean():\n",
    "    df = pd.read_csv(\"C:/Users/ezhil/Desktop/BITTU DOCUMENTS/Code basics/Machine learning from tutorial 3/ml 3/test_scores.csv\")\n",
    "    r = LinearRegression()\n",
    "    r.fit(df[['math']],df.cs)\n",
    "    return r.coef_, r.intercept_"
   ]
  },
  {
   "cell_type": "markdown",
   "id": "e9e5ce27",
   "metadata": {},
   "source": [
    " ## haven't cleared yet"
   ]
  },
  {
   "cell_type": "code",
   "execution_count": null,
   "id": "b9dc76a9",
   "metadata": {},
   "outputs": [],
   "source": []
  },
  {
   "cell_type": "code",
   "execution_count": null,
   "id": "ef9447d8",
   "metadata": {},
   "outputs": [],
   "source": []
  },
  {
   "cell_type": "code",
   "execution_count": null,
   "id": "f634371f",
   "metadata": {},
   "outputs": [],
   "source": []
  }
 ],
 "metadata": {
  "kernelspec": {
   "display_name": "Python 3 (ipykernel)",
   "language": "python",
   "name": "python3"
  },
  "language_info": {
   "codemirror_mode": {
    "name": "ipython",
    "version": 3
   },
   "file_extension": ".py",
   "mimetype": "text/x-python",
   "name": "python",
   "nbconvert_exporter": "python",
   "pygments_lexer": "ipython3",
   "version": "3.9.7"
  }
 },
 "nbformat": 4,
 "nbformat_minor": 5
}
